{
 "cells": [
  {
   "cell_type": "code",
   "execution_count": 2,
   "id": "f5793864",
   "metadata": {},
   "outputs": [
    {
     "name": "stderr",
     "output_type": "stream",
     "text": [
      "Using custom data configuration ucberkeley-dlab--measuring-hate-speech-c32713cabe528196\n",
      "Found cached dataset parquet (/Users/pierredemetz/.cache/huggingface/datasets/ucberkeley-dlab___parquet/ucberkeley-dlab--measuring-hate-speech-c32713cabe528196/0.0.0/2a3b91fbd88a2c90d1dbbb32b460cf621d31bd5b05b934492fdef7d8d6f236ec)\n"
     ]
    },
    {
     "data": {
      "application/vnd.jupyter.widget-view+json": {
       "model_id": "1a217f95a5924f2ea81ac4265481a387",
       "version_major": 2,
       "version_minor": 0
      },
      "text/plain": [
       "  0%|          | 0/1 [00:00<?, ?it/s]"
      ]
     },
     "metadata": {},
     "output_type": "display_data"
    },
    {
     "ename": "NameError",
     "evalue": "name '__file__' is not defined",
     "output_type": "error",
     "traceback": [
      "\u001b[0;31m---------------------------------------------------------------------------\u001b[0m",
      "\u001b[0;31mNameError\u001b[0m                                 Traceback (most recent call last)",
      "Cell \u001b[0;32mIn[2], line 15\u001b[0m\n\u001b[1;32m     12\u001b[0m df \u001b[38;5;241m=\u001b[39m dataset[\u001b[38;5;124m'\u001b[39m\u001b[38;5;124mtrain\u001b[39m\u001b[38;5;124m'\u001b[39m]\u001b[38;5;241m.\u001b[39mto_pandas()\n\u001b[1;32m     14\u001b[0m \u001b[38;5;66;03m# set up folder and path to save it\u001b[39;00m\n\u001b[0;32m---> 15\u001b[0m path_dir \u001b[38;5;241m=\u001b[39m os\u001b[38;5;241m.\u001b[39mpath\u001b[38;5;241m.\u001b[39mabspath(os\u001b[38;5;241m.\u001b[39mpath\u001b[38;5;241m.\u001b[39mjoin(\u001b[38;5;18;43m__file__\u001b[39;49m,\u001b[38;5;124m\"\u001b[39m\u001b[38;5;124m../../..\u001b[39m\u001b[38;5;124m\"\u001b[39m))\n\u001b[1;32m     16\u001b[0m path \u001b[38;5;241m=\u001b[39m os\u001b[38;5;241m.\u001b[39mpath\u001b[38;5;241m.\u001b[39mjoin(path_dir, \u001b[38;5;124m\"\u001b[39m\u001b[38;5;124mdata\u001b[39m\u001b[38;5;124m\"\u001b[39m)\n\u001b[1;32m     17\u001b[0m os\u001b[38;5;241m.\u001b[39mmakedirs(path, exist_ok\u001b[38;5;241m=\u001b[39m\u001b[38;5;28;01mTrue\u001b[39;00m)\n",
      "\u001b[0;31mNameError\u001b[0m: name '__file__' is not defined"
     ]
    }
   ],
   "source": [
    "import datasets\n",
    "import os\n",
    "import pandas as pd\n",
    "import numpy as np\n",
    "\n",
    "##################################\n",
    "# Download raw hate speech dataset\n",
    "##################################\n",
    "\n",
    "# download raw dataset\n",
    "dataset = datasets.load_dataset('ucberkeley-dlab/measuring-hate-speech', 'binary')   \n",
    "df = dataset['train'].to_pandas()\n",
    "\n",
    "# set up folder and path to save it\n",
    "path_dir = os.path.abspath(os.path.join(__file__,\"../../..\"))\n",
    "path = os.path.join(path_dir, \"data\")\n",
    "os.makedirs(path, exist_ok=True)\n",
    "\n",
    "# df.to_csv(path + \"/hate_speech_raw.csv\", index = False)\n",
    "\n",
    "\n",
    "\n",
    "####################\n",
    "# Preprocess dataset\n",
    "####################\n",
    "\n",
    "# Note 1: Hate Speech score is the same for all annotators\n",
    "# Note 2: The target of a comment was chosen to be the majority vote in the annotators\n",
    "# Note 3: In case of a tie, the target is chosen at random\n",
    "# Note 4: A comment is considered hate speech if its score is higher than 0.5\n",
    "# Note 5: There is no \"profession\" target in the dataset\n",
    "\n",
    "def preprocess_dataset(df):\n",
    "    '''\n",
    "    Function to preprocess hate speech dataset for classification task.\n",
    "    Takes as input the raw dataframe.\n",
    "    Outputs a new dataframe, with following columns:\n",
    "    comment_id, text, hate_speech_score and label.\n",
    "    Label has 8 possible values:\n",
    "    0: comment is not hateful\n",
    "    1: comment is hateful (target_race)\n",
    "    2: comment is hateful (target_religion)\n",
    "    3: comment is hateful (target_origin)\n",
    "    4: comment is hateful (target_gender)\n",
    "    5: comment is hateful (target_sexuality)\n",
    "    6: comment is hateful (target_age)\n",
    "    7: comment is hateful (target_disability)\n",
    "    '''\n",
    "    # set random seed for reproducibility\n",
    "    np.random.seed(42)\n",
    "\n",
    "    # store dataframe rows (will be concatenated)\n",
    "    dataframe_list = []\n",
    "\n",
    "    # loop through unique values of comment_id\n",
    "    for id_comment in np.unique(df['comment_id']):\n",
    "        \n",
    "        # create small df with only rows corresponding to given comment\n",
    "        comment_df = df.loc[df['comment_id'] == id_comment]\n",
    "        \n",
    "        # find hate speech score and text of given comment\n",
    "        hs_score = comment_df['hate_speech_score'].iloc[0]\n",
    "        text = comment_df['text'].iloc[0]\n",
    "        \n",
    "        # return label 0 if comment is not hateful\n",
    "        if hs_score <= 0.5:\n",
    "            dataframe_list.append(pd.DataFrame({'comment_id': [id_comment], 'text': [text],\n",
    "                                                'hate_speech_score': [hs_score], 'label': [0]}))\n",
    "        \n",
    "        # otherwise determine the label of the comment\n",
    "        else:\n",
    "            # count amount of times a comment has been annotated as targetting a specific group\n",
    "            list_target_counts = [comment_df['target_race'].sum(), comment_df['target_religion'].sum(),\n",
    "                                  comment_df['target_origin'].sum(), comment_df['target_gender'].sum(),\n",
    "                                  comment_df['target_sexuality'].sum(), comment_df['target_age'].sum(),\n",
    "                                  comment_df['target_disability'].sum()]\n",
    "            \n",
    "            # find majority voting (pick at random in case of tie)\n",
    "            index_max_count = np.random.choice(np.where(list_target_counts == np.max(list_target_counts))[0])\n",
    "            # return label of majority voting\n",
    "            dataframe_list.append(pd.DataFrame({'comment_id': [id_comment], 'text': [text],\n",
    "                                                'hate_speech_score': [hs_score], 'label': [index_max_count+1]}))\n",
    "            \n",
    "    return pd.concat(dataframe_list, ignore_index=True)\n",
    "\n",
    "\n",
    "# preprocess data and save it\n",
    "preprocessed_df = preprocess_dataset(df)\n",
    "preprocessed_df.to_csv(path + \"/hate_speech_preprocessed.csv\", index = False)"
   ]
  },
  {
   "cell_type": "code",
   "execution_count": null,
   "id": "f509c712",
   "metadata": {},
   "outputs": [],
   "source": []
  }
 ],
 "metadata": {
  "kernelspec": {
   "display_name": "Python 3 (ipykernel)",
   "language": "python",
   "name": "python3"
  },
  "language_info": {
   "codemirror_mode": {
    "name": "ipython",
    "version": 3
   },
   "file_extension": ".py",
   "mimetype": "text/x-python",
   "name": "python",
   "nbconvert_exporter": "python",
   "pygments_lexer": "ipython3",
   "version": "3.8.16"
  }
 },
 "nbformat": 4,
 "nbformat_minor": 5
}
