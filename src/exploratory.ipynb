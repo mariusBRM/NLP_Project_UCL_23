{
 "cells": [
  {
   "attachments": {},
   "cell_type": "markdown",
   "metadata": {},
   "source": [
    "<h1>Mulitclass classification fine tuned bert</h1>"
   ]
  },
  {
   "cell_type": "code",
   "execution_count": 5,
   "metadata": {},
   "outputs": [],
   "source": [
    "# libraries\n",
    "\n",
    "import pandas as pd\n",
    "import numpy as np\n",
    "import pandas as pd\n",
    "import seaborn as sns\n",
    "import matplotlib.pyplot as plt\n",
    "from datasets import load_dataset\n",
    "import torch\n",
    "import torch.nn as nn\n",
    "from torch.utils.data import Dataset, DataLoader\n",
    "import transformers\n",
    "from transformers import Trainer, TrainingArguments\n",
    "from transformers import BertTokenizer, BertForSequenceClassification, BertModel, AdamW, get_linear_schedule_with_warmup\n",
    "import pytorch_lightning as pl\n",
    "import torchmetrics\n",
    "from sklearn.model_selection import train_test_split\n",
    "from sklearn.metrics import accuracy_score, recall_score, f1_score, precision_score\n",
    "\n",
    "# import + preprocess the data\n",
    "def preprocessing(df):     \n",
    "    # 0: comment is not hateful\n",
    "    # 1: comment is hateful (target_race)\n",
    "    # 2: comment is hateful (target_religion)\n",
    "    # 3: comment is hateful (target_origin)\n",
    "    # 4: comment is hateful (target_gender)\n",
    "    # 5: comment is hateful (target_sexuality)\n",
    "    # 6: comment is hateful (target_age)\n",
    "    # 7: comment is hateful (target_disability)\n",
    "    l = []\n",
    "    for i in range(len(df)):\n",
    "        list_class = [0] * 8\n",
    "        list_class[int(df['label'].iloc[i])] = 1\n",
    "        l.append(list_class)\n",
    "    \n",
    "    df['Class'] = l\n",
    "    \n",
    "    return df\n",
    "\n",
    "def create_class(i):\n",
    "    \"\"\"\n",
    "    Creating a list of lenght 8 with only zeros except from a one at index i\n",
    "    \"\"\"\n",
    "    l = [0] * 8\n",
    "    l[i]=1\n",
    "    return l\n",
    "\n",
    "\n",
    "\n",
    "# Custome the data for our need\n",
    "class HateSpeechData(Dataset):\n",
    "    def __init__(self, X, y):\n",
    "        self.X = X\n",
    "        self.y = y\n",
    "        \n",
    "    def __getitem__(self, index):\n",
    "        item = {key:torch.tensor(value[index]) for key, value in self.X.items()}\n",
    "        item[\"labels\"] = torch.tensor(self.y[index], dtype=torch.float)\n",
    "        return item\n",
    "    \n",
    "    def __len__(self):\n",
    "        return len(self.X[\"input_ids\"])\n",
    "    \n",
    "\n",
    "# Dataloader\n",
    "def dataloader(df, val_frac, test_frac, batch_size, max_lenght=None):\n",
    "\n",
    "    if max_lenght is None:\n",
    "        X = list(df['text'])\n",
    "        y = list(df['Class'])\n",
    "    else:\n",
    "        X = list(df['text'][:max_lenght])\n",
    "        y = list(df['Class'][:max_lenght])\n",
    "\n",
    "    # split the data\n",
    "    X_train, X_val, y_train, y_val = train_test_split(X, y, test_size=val_frac, stratify=y)\n",
    "    X_train, X_test, y_train, y_test = train_test_split(X_train, y_train, test_size=test_frac, stratify=y_train)\n",
    "\n",
    "    # initialize the tokenizer\n",
    "    tokenizer = BertTokenizer.from_pretrained('bert-base-uncased')\n",
    "\n",
    "    # Tokenize the comment text --> create an object that has free keys : input_ids, attention_mask, \n",
    "    X_train_tokenize = tokenizer(X_train, padding=True, truncation=True, max_length=512)\n",
    "    X_val_tokenize = tokenizer(X_val, padding=True, truncation=True, max_length=512)  \n",
    "    X_test_tokenize = tokenizer(X_test, padding=True, truncation=True, max_length=512)\n",
    "    \n",
    "    train_dataset = HateSpeechData(X_train_tokenize, y_train)\n",
    "    val_dataset = HateSpeechData(X_val_tokenize, y_val)\n",
    "    test_dataset = HateSpeechData(X_test_tokenize, y_test)\n",
    "\n",
    "    trainloader = DataLoader(train_dataset, batch_size=batch_size, shuffle=True, num_workers=0)\n",
    "    validloader = DataLoader(val_dataset, batch_size=batch_size, shuffle=True, num_workers=0)\n",
    "    testloader = DataLoader(test_dataset, batch_size=batch_size, shuffle = True, num_workers=0)\n",
    "\n",
    "    return trainloader, validloader, testloader\n",
    "\n",
    "    \n",
    "#Create the BERT model we will use to fine tuned\n",
    "class BERTForFineTuning(torch.nn.Module):\n",
    "    def __init__(self):\n",
    "        super(BERTForFineTuning, self).__init__()\n",
    "        # first layer is the bert\n",
    "        self.l1 = transformers.BertModel.from_pretrained('bert-base-cased', output_hidden_states = True)\n",
    "        # apply a dropout\n",
    "        self.l2 = torch.nn.Dropout(0.3)\n",
    "        # feature bert input is 768 and we want the prediction on the 8 class\n",
    "        self.l3 = torch.nn.Linear(768, 8)\n",
    "    \n",
    "    def forward(self, ids, mask, token_type_ids):\n",
    "        outputs = self.l1(ids, attention_mask=mask, token_type_ids=token_type_ids)\n",
    "        output_2 = self.l2(outputs.last_hidden_state)\n",
    "        output = self.l3(output_2)\n",
    "        return outputs.hidden_states, output\n",
    "\n",
    "class BERTForFineTuningtWithPooling(torch.nn.Module):\n",
    "    def __init__(self):\n",
    "        super(BERTForFineTuningtWithPooling, self).__init__()\n",
    "        # first layer is the bert\n",
    "        self.l1 = transformers.BertModel.from_pretrained('bert-base-uncased', output_hidden_states = True)\n",
    "        # apply a dropout\n",
    "        self.l2 = torch.nn.Dropout(0.3)\n",
    "        self.l3 = torch.nn.Linear(768, 8)\n",
    "    \n",
    "    def forward(self, ids, mask, token_type_ids):\n",
    "        outputs = self.l1(ids, attention_mask=mask, token_type_ids=token_type_ids)\n",
    "        pooled_output = torch.mean(outputs.last_hidden_state, dim=1)\n",
    "        output_2 = self.l2(pooled_output)\n",
    "        output = self.l3(output_2)\n",
    "        return outputs.hidden_states, output\n",
    "    \n",
    "\n",
    "def loss_fn(outputs, targets):\n",
    "    #include weights\n",
    "    # weights = 1 / (torch.sqrt(torch.unique(torch.tensor(all_labels), return_counts = True)[1]))\n",
    "    return torch.nn.BCEWithLogitsLoss()(outputs, targets)\n",
    "\n",
    "def train(nm_epoch, training_loader):\n",
    "    \n",
    "    model = BERTForFineTuningtWithPooling()\n",
    "    device = 'cuda' if torch.cuda.is_available() else 'cpu'\n",
    "    model.to(device)\n",
    "    optimizer = torch.optim.Adam(params=model.parameters(), lr=1e-5)\n",
    "\n",
    "    # set the model to training mode\n",
    "    model.train()\n",
    "\n",
    "\n",
    "    accuracy=0.0\n",
    "    f1_score_micro=0.0\n",
    "    f1_score_micro=0.0\n",
    "    \n",
    "    for epoch in range(nm_epoch):\n",
    "        running_loss = 0.0\n",
    "        fin_targets=[]\n",
    "        fin_outputs=[]\n",
    "        for i, data in enumerate(training_loader, 0):\n",
    "            ids = data['input_ids'].to(device, dtype = torch.long)\n",
    "            attention_mask = data['attention_mask'].to(device, dtype = torch.long)\n",
    "            token_type_ids = data['token_type_ids'].to(device, dtype = torch.long)\n",
    "            labels = data['labels'].to(device, dtype = torch.float)\n",
    "\n",
    "            # initialize the optimizer\n",
    "            optimizer.zero_grad()\n",
    "            #forward inputs\n",
    "            _, output = model.forward(ids, attention_mask, token_type_ids)\n",
    "            # define the loss\n",
    "            loss = loss_fn(output, labels)\n",
    "            # backpropagate\n",
    "            loss.backward()\n",
    "            # print(\"Capturing:\", torch.cuda.is_current_stream_capturing())\n",
    "            optimizer.step()\n",
    "            # add the loss to the running loss\n",
    "            running_loss+=loss.item()\n",
    "\n",
    "            fin_targets.extend(labels.cpu().detach().numpy().tolist())\n",
    "            fin_outputs.extend(torch.sigmoid(output).cpu().detach().numpy().tolist())\n",
    "            \n",
    "\n",
    "            if i % 2000 == 1999:    # print every 2000 mini-batches\n",
    "                print('[%d, %5d] loss: %.3f' %\n",
    "                    (epoch + 1, i + 1, running_loss / 2000))\n",
    "                running_loss = 0.0\n",
    "        \n",
    "        fin_outputs = np.array(fin_outputs) >= 0.5\n",
    "        accuracy = accuracy_score(fin_targets, fin_outputs)\n",
    "        f1_score_micro = f1_score(fin_targets, fin_outputs, average='micro')\n",
    "        f1_score_macro = f1_score(fin_targets, fin_outputs, average='macro')\n",
    "    \n",
    "    try:\n",
    "        torch.save(model.state_dict(), f'fine_tuned_bert{nm_epoch}.pt')\n",
    "        print('Model has been saved !')\n",
    "    except:\n",
    "        print('The model has already been saved!')\n",
    "\n",
    "    return model, accuracy, f1_score_micro, f1_score_macro\n",
    "\n",
    "def validation(validation_loader, model_name):\n",
    "    model = BERTForFineTuningtWithPooling()\n",
    "    model.load_state_dict(torch.load(model_name))\n",
    "    device = 'cuda' if torch.cuda.is_available() else 'cpu'\n",
    "    model.to(device)\n",
    "    model.eval()\n",
    "\n",
    "    fin_targets=[]\n",
    "    fin_outputs=[]\n",
    "    \n",
    "    with torch.no_grad():\n",
    "        for _, data in enumerate(validation_loader, 0):\n",
    "            ids = data['input_ids'].to(device, dtype = torch.long)\n",
    "            mask = data['attention_mask'].to(device, dtype = torch.long)\n",
    "            token_type_ids = data['token_type_ids'].to(device, dtype = torch.long)\n",
    "            targets = data['labels'].to(device, dtype = torch.float)\n",
    "            _,output = model(ids, mask, token_type_ids)\n",
    "            fin_targets.extend(targets.cpu().detach().numpy().tolist())\n",
    "            fin_outputs.extend(torch.sigmoid(output).cpu().detach().numpy().tolist())\n",
    "    return fin_outputs, fin_targets\n",
    "\n",
    "\n",
    "def model_selection(num_epochs, training_loader, validation_loader):\n",
    "    \n",
    "    report = []\n",
    "\n",
    "    for epoch in range(1,num_epochs):\n",
    "        \n",
    "        # dict to report performance\n",
    "        metrics = {\n",
    "            'num_epochs' : epoch,\n",
    "            'Training_Accuracy' : 0.0,\n",
    "            'Training_f1_micro': 0.0,\n",
    "            'Training_f1_macro': 0.0,\n",
    "            'Validation_Accuracy' : 0.0,\n",
    "            'Validation_f1_micro': 0.0,\n",
    "            'Validation_f1_macro': 0.0,\n",
    "        }\n",
    "    \n",
    "        print(f'Epoch{epoch}: Start Training...')\n",
    "        model, accuracy_train,f1_score_micro_train, f1_score_macro_train = train(epoch, training_loader)\n",
    "        print(f'Epoch{epoch}: Traning is done...')\n",
    "        print(f'Epoch{epoch}: Start Validation...')\n",
    "        model_name = f'fine_tuned_bert{epoch}.pt'\n",
    "        outputs, targets = validation(validation_loader, model_name)\n",
    "        print(f'Epoch{epoch}: Validation is done...')\n",
    "        outputs = np.array(outputs) >= 0.5\n",
    "        accuracy_valid = accuracy_score(targets, outputs)\n",
    "        f1_score_micro_valid = f1_score(targets, outputs, average='micro')\n",
    "        f1_score_macro_valid = f1_score(targets, outputs, average='macro')\n",
    "        # print results\n",
    "        metrics['Training_Accuracy'] = accuracy_train\n",
    "        metrics['Training_f1_micro'] = f1_score_micro_train\n",
    "        metrics['Training_f1_macro'] = f1_score_macro_train\n",
    "        metrics['Validation_Accuracy'] = accuracy_valid\n",
    "        metrics['Validation_f1_micro'] = f1_score_micro_valid\n",
    "        metrics['Validation_f1_macro'] = f1_score_macro_valid\n",
    "\n",
    "        report.append(metrics)\n",
    "    \n",
    "    return report\n"
   ]
  },
  {
   "cell_type": "code",
   "execution_count": 2,
   "metadata": {},
   "outputs": [],
   "source": [
    "\n",
    "df = pd.read_csv('../data/hate_speech_preprocessed.csv')\n",
    "df = preprocessing(df)\n",
    "trainloader, validloader, testloader = dataloader(df, val_frac=0.2, test_frac=0.3, batch_size=4)\n"
   ]
  },
  {
   "cell_type": "code",
   "execution_count": 40,
   "metadata": {},
   "outputs": [
    {
     "data": {
      "text/plain": [
       "22156"
      ]
     },
     "execution_count": 40,
     "metadata": {},
     "output_type": "execute_result"
    }
   ],
   "source": [
    "len(trainloader.dataset)"
   ]
  },
  {
   "cell_type": "code",
   "execution_count": null,
   "metadata": {},
   "outputs": [],
   "source": [
    "report = model_selection(2, trainloader, validloader)"
   ]
  },
  {
   "cell_type": "code",
   "execution_count": 3,
   "metadata": {},
   "outputs": [
    {
     "name": "stderr",
     "output_type": "stream",
     "text": [
      "Some weights of the model checkpoint at bert-base-uncased were not used when initializing BertModel: ['cls.predictions.transform.LayerNorm.weight', 'cls.predictions.bias', 'cls.seq_relationship.weight', 'cls.predictions.transform.dense.weight', 'cls.predictions.transform.LayerNorm.bias', 'cls.predictions.decoder.weight', 'cls.seq_relationship.bias', 'cls.predictions.transform.dense.bias']\n",
      "- This IS expected if you are initializing BertModel from the checkpoint of a model trained on another task or with another architecture (e.g. initializing a BertForSequenceClassification model from a BertForPreTraining model).\n",
      "- This IS NOT expected if you are initializing BertModel from the checkpoint of a model that you expect to be exactly identical (initializing a BertForSequenceClassification model from a BertForSequenceClassification model).\n"
     ]
    },
    {
     "name": "stdout",
     "output_type": "stream",
     "text": [
      "[1,  2000] loss: 0.180\n",
      "[2,  2000] loss: 0.118\n",
      "Model has been saved !\n"
     ]
    }
   ],
   "source": [
    "m = train(1,trainloader)"
   ]
  },
  {
   "cell_type": "code",
   "execution_count": 3,
   "metadata": {},
   "outputs": [
    {
     "name": "stderr",
     "output_type": "stream",
     "text": [
      "Some weights of the model checkpoint at bert-base-uncased were not used when initializing BertModel: ['cls.seq_relationship.weight', 'cls.predictions.transform.dense.weight', 'cls.predictions.bias', 'cls.predictions.transform.dense.bias', 'cls.predictions.transform.LayerNorm.weight', 'cls.seq_relationship.bias', 'cls.predictions.decoder.weight', 'cls.predictions.transform.LayerNorm.bias']\n",
      "- This IS expected if you are initializing BertModel from the checkpoint of a model trained on another task or with another architecture (e.g. initializing a BertForSequenceClassification model from a BertForPreTraining model).\n",
      "- This IS NOT expected if you are initializing BertModel from the checkpoint of a model that you expect to be exactly identical (initializing a BertForSequenceClassification model from a BertForSequenceClassification model).\n"
     ]
    },
    {
     "name": "stdout",
     "output_type": "stream",
     "text": [
      "Accuracy Score = 0.805762669025654\n",
      "F1 Score (Micro) = 0.836569790173335\n",
      "F1 Score (Macro) = 0.5331431122474659\n"
     ]
    },
    {
     "name": "stderr",
     "output_type": "stream",
     "text": [
      "Some weights of the model checkpoint at bert-base-uncased were not used when initializing BertModel: ['cls.seq_relationship.weight', 'cls.predictions.transform.dense.weight', 'cls.predictions.bias', 'cls.predictions.transform.dense.bias', 'cls.predictions.transform.LayerNorm.weight', 'cls.seq_relationship.bias', 'cls.predictions.decoder.weight', 'cls.predictions.transform.LayerNorm.bias']\n",
      "- This IS expected if you are initializing BertModel from the checkpoint of a model trained on another task or with another architecture (e.g. initializing a BertForSequenceClassification model from a BertForPreTraining model).\n",
      "- This IS NOT expected if you are initializing BertModel from the checkpoint of a model that you expect to be exactly identical (initializing a BertForSequenceClassification model from a BertForSequenceClassification model).\n"
     ]
    },
    {
     "name": "stdout",
     "output_type": "stream",
     "text": [
      "Accuracy Score = 0.805762669025654\n",
      "F1 Score (Micro) = 0.836569790173335\n",
      "F1 Score (Macro) = 0.5331431122474659\n"
     ]
    }
   ],
   "source": [
    "for epoch in range(2):\n",
    "    outputs, targets = validation(epoch, validloader)\n",
    "    outputs = np.array(outputs) >= 0.5\n",
    "    accuracy = accuracy_score(targets, outputs)\n",
    "    f1_score_micro = f1_score(targets, outputs, average='micro')\n",
    "    f1_score_macro = f1_score(targets, outputs, average='macro')\n",
    "    print(f\"Accuracy Score = {accuracy}\")\n",
    "    print(f\"F1 Score (Micro) = {f1_score_micro}\")\n",
    "    print(f\"F1 Score (Macro) = {f1_score_macro}\")"
   ]
  },
  {
   "cell_type": "code",
   "execution_count": 3,
   "metadata": {},
   "outputs": [],
   "source": [
    "class BERTForFineTuningTestWithPooling(torch.nn.Module):\n",
    "    def __init__(self):\n",
    "        super(BERTForFineTuningTestWithPooling, self).__init__()\n",
    "        # first layer is the bert\n",
    "        self.l1 = transformers.BertModel.from_pretrained('bert-base-uncased', output_hidden_states = True)\n",
    "        # apply a dropout\n",
    "        self.l2 = torch.nn.Dropout(0.3)\n",
    "        self.l3 = torch.nn.Linear(768, 8)\n",
    "    \n",
    "    def forward(self, ids, mask, token_type_ids):\n",
    "        outputs = self.l1(ids, attention_mask=mask, token_type_ids=token_type_ids)\n",
    "        pooled_output = torch.mean(outputs.last_hidden_state, dim=1)\n",
    "        output_2 = self.l2(pooled_output)\n",
    "        output = self.l3(output_2)\n",
    "        return outputs.hidden_states, output"
   ]
  },
  {
   "cell_type": "code",
   "execution_count": null,
   "metadata": {},
   "outputs": [],
   "source": [
    "class BERTForFineTuningTest(torch.nn.Module):\n",
    "    def __init__(self):\n",
    "        super(BERTForFineTuningTest, self).__init__()\n",
    "        # first layer is the bert\n",
    "        self.l1 = transformers.BertModel.from_pretrained('bert-base-uncased', output_hidden_states = True)\n",
    "        # apply a dropout\n",
    "        self.l2 = torch.nn.Dropout(0.3)\n",
    "        self.l3 = torch.nn.Linear(768, 8)\n",
    "    \n",
    "    def forward(self, ids, mask, token_type_ids):\n",
    "        outputs = self.l1(ids, attention_mask=mask, token_type_ids=token_type_ids)\n",
    "        output_2 = self.l2(outputs[1])\n",
    "        output = self.l3(output_2)\n",
    "        print(output.size())\n",
    "        return outputs.hidden_states, output"
   ]
  },
  {
   "cell_type": "code",
   "execution_count": 46,
   "metadata": {},
   "outputs": [],
   "source": [
    "#Create the BERT model we will use to fine tuned\n",
    "class BERTClass(torch.nn.Module):\n",
    "    def __init__(self):\n",
    "        super(BERTClass, self).__init__()\n",
    "        # first layer is the bert\n",
    "        self.l1 = transformers.BertModel.from_pretrained('bert-base-uncased')\n",
    "        # apply a dropout\n",
    "        self.l2 = torch.nn.Dropout(0.3)\n",
    "        # feature bert input is 768 and we want the prediction on the 8 class\n",
    "        self.l3 = torch.nn.Linear(768, 8)\n",
    "    \n",
    "    def forward(self, ids, mask, token_type_ids):\n",
    "        output_1= self.l1(ids, attention_mask = mask, token_type_ids = token_type_ids)\n",
    "        output_2 = self.l2(output_1[1])\n",
    "        output = self.l3(output_2)\n",
    "        return output"
   ]
  },
  {
   "cell_type": "code",
   "execution_count": 62,
   "metadata": {},
   "outputs": [
    {
     "name": "stderr",
     "output_type": "stream",
     "text": [
      "Some weights of the model checkpoint at bert-base-uncased were not used when initializing BertModel: ['cls.seq_relationship.weight', 'cls.predictions.transform.dense.bias', 'cls.predictions.decoder.weight', 'cls.predictions.bias', 'cls.predictions.transform.LayerNorm.bias', 'cls.predictions.transform.dense.weight', 'cls.seq_relationship.bias', 'cls.predictions.transform.LayerNorm.weight']\n",
      "- This IS expected if you are initializing BertModel from the checkpoint of a model trained on another task or with another architecture (e.g. initializing a BertForSequenceClassification model from a BertForPreTraining model).\n",
      "- This IS NOT expected if you are initializing BertModel from the checkpoint of a model that you expect to be exactly identical (initializing a BertForSequenceClassification model from a BertForSequenceClassification model).\n"
     ]
    }
   ],
   "source": [
    "test = BERTForFineTuningTestWithPooling()\n",
    "device = 'cuda' if torch.cuda.is_available() else 'cpu'\n",
    "test.to(device)\n",
    "with torch.no_grad():\n",
    "    for _, data in enumerate(validloader, 0):\n",
    "        ids = data['input_ids'].to(device, dtype = torch.long)\n",
    "        mask = data['attention_mask'].to(device, dtype = torch.long)\n",
    "        token_type_ids = data['token_type_ids'].to(device, dtype = torch.long)\n",
    "        targets = data['labels'].to(device, dtype = torch.float)\n",
    "        hiddent_states,output = test(ids, mask, token_type_ids)"
   ]
  },
  {
   "cell_type": "code",
   "execution_count": 64,
   "metadata": {},
   "outputs": [
    {
     "data": {
      "text/plain": [
       "tensor([[ 0.1555,  0.0198,  0.0561, -0.2436, -0.2888, -0.0205, -0.3739, -0.2089]],\n",
       "       device='cuda:0')"
      ]
     },
     "execution_count": 64,
     "metadata": {},
     "output_type": "execute_result"
    }
   ],
   "source": [
    "output"
   ]
  },
  {
   "cell_type": "code",
   "execution_count": 27,
   "metadata": {},
   "outputs": [
    {
     "name": "stderr",
     "output_type": "stream",
     "text": [
      "Some weights of the model checkpoint at bert-base-uncased were not used when initializing BertModel: ['cls.seq_relationship.weight', 'cls.predictions.transform.dense.bias', 'cls.predictions.decoder.weight', 'cls.predictions.bias', 'cls.predictions.transform.LayerNorm.bias', 'cls.predictions.transform.dense.weight', 'cls.seq_relationship.bias', 'cls.predictions.transform.LayerNorm.weight']\n",
      "- This IS expected if you are initializing BertModel from the checkpoint of a model trained on another task or with another architecture (e.g. initializing a BertForSequenceClassification model from a BertForPreTraining model).\n",
      "- This IS NOT expected if you are initializing BertModel from the checkpoint of a model that you expect to be exactly identical (initializing a BertForSequenceClassification model from a BertForSequenceClassification model).\n"
     ]
    }
   ],
   "source": [
    "test1 = BERTClass()\n",
    "device = 'cuda' if torch.cuda.is_available() else 'cpu'\n",
    "test1.to(device)\n",
    "with torch.no_grad():\n",
    "    for _, data in enumerate(validloader, 0):\n",
    "        ids = data['input_ids'].to(device, dtype = torch.long)\n",
    "        mask = data['attention_mask'].to(device, dtype = torch.long)\n",
    "        token_type_ids = data['token_type_ids'].to(device, dtype = torch.long)\n",
    "        targets = data['labels'].to(device, dtype = torch.float)\n",
    "        output1 = test1(ids, mask, token_type_ids)"
   ]
  },
  {
   "cell_type": "code",
   "execution_count": 28,
   "metadata": {},
   "outputs": [
    {
     "data": {
      "text/plain": [
       "tensor([[ 0.1759,  0.2314,  0.1860, -0.9042,  0.1226,  0.6073, -0.5687,  0.3000]],\n",
       "       device='cuda:0')"
      ]
     },
     "execution_count": 28,
     "metadata": {},
     "output_type": "execute_result"
    }
   ],
   "source": [
    "output1"
   ]
  },
  {
   "cell_type": "code",
   "execution_count": 5,
   "metadata": {},
   "outputs": [
    {
     "data": {
      "text/plain": [
       "torch.Size([1, 168, 8])"
      ]
     },
     "execution_count": 5,
     "metadata": {},
     "output_type": "execute_result"
    }
   ],
   "source": [
    "output.size()"
   ]
  }
 ],
 "metadata": {
  "kernelspec": {
   "display_name": "comp0197-pt",
   "language": "python",
   "name": "python3"
  },
  "language_info": {
   "codemirror_mode": {
    "name": "ipython",
    "version": 3
   },
   "file_extension": ".py",
   "mimetype": "text/x-python",
   "name": "python",
   "nbconvert_exporter": "python",
   "pygments_lexer": "ipython3",
   "version": "3.10.8"
  },
  "orig_nbformat": 4
 },
 "nbformat": 4,
 "nbformat_minor": 2
}
